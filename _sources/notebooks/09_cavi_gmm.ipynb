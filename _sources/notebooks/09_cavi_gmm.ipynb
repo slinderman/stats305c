{
  "cells": [
    {
      "attachments": {},
      "cell_type": "markdown",
      "metadata": {
        "id": "IoYdLutn7dUa"
      },
      "source": [
        "# Coordinate Ascent Variational Inference for GMMs\n",
        "\n",
        "In this notebook you'll practice deriving and implementing coordinate ascent variational inference (CAVI) for a model you now know and love, the Gaussian mixture model (GMM). Following Lecture 9, we will focus on the simple case in which the covariances are known for each mixture component, but we'll give some pointers at the end as to how you could generalize this approach.\n",
        "\n"
      ]
    },
    {
      "attachments": {},
      "cell_type": "markdown",
      "metadata": {
        "id": "dnZAdL78SSU3"
      },
      "source": [
        "## Generative model\n",
        "Assume each mixture component has identity covariance. Then the generative model is,\n",
        "\n",
        "1. Sample parameters for each mixture component:\n",
        "\n",
        "$$\n",
        "\\begin{align*}\n",
        "\\mu_k &\\sim \\mathcal{N}(\\nu^{-1} \\phi, \\nu^{-1} I) \\\\\n",
        "\\end{align*}\n",
        "$$\n",
        "\n",
        "2. Sample mixture weights,\n",
        "\n",
        "$$\n",
        "\\begin{align*}\n",
        "\\pi &\\sim \\mathrm{Dir}(\\alpha) \n",
        "\\end{align*}\n",
        "$$\n",
        "\n",
        "3. Sample mixture assignments for each data point,\n",
        "\n",
        "$$\n",
        "\\begin{align*}\n",
        "z_n &\\sim \\mathrm{Cat}(\\pi)\n",
        "\\end{align*}\n",
        "$$\n",
        "\n",
        "4. Sample data points given parameters and assignments,\n",
        "\n",
        "$$\n",
        "\\begin{align*}\n",
        "x_n &\\sim \\mathcal{N}(\\mu_{z_n}, I)\n",
        "\\end{align*}\n",
        "$$\n",
        "\n",
        "As we showed in class, you can write the log joint probability as,\n",
        "\n",
        "$$\n",
        "\\begin{align*}\n",
        "&\\log p(X, Z, \\{\\mu_k\\}_{k=1}^K, \\pi) = \\\\\n",
        "&\\hspace{4em} \\sum_{n=1}^N \\sum_{k=1}^K \\left[ \\mathbb{I}[z_n = k] \\left(\\log \\mathcal{N}(x_n \\mid \\mu_k, I)  + \\log \\pi_k \\right)  \\right] \\\\\n",
        "&\\hspace{8em}  + \\sum_{k=1}^K [\\log \\mathcal{N}(\\mu_k \\mid \\nu^{-1} \\phi , \\nu^{-1} I)] + \\log \\mathrm{Dir}(\\pi \\mid \\alpha) \n",
        "\\end{align*}\n",
        "$$\n",
        "\n",
        "where we have used the shorthand $X = \\{x_n\\}_{n=1}^N$, $Z = \\{z_n\\}_{n=1}^N$. \n"
      ]
    },
    {
      "attachments": {},
      "cell_type": "markdown",
      "metadata": {
        "id": "9Puzugc0VF3k"
      },
      "source": [
        "## Part 1: Derive the conditional distributions\n",
        "\n",
        "To speed you along, we've given you the answers for this part. Double check that you understand how we arrived at them, then proceed to Part 1 where you'll derive the corresponding CAVI updates."
      ]
    },
    {
      "attachments": {},
      "cell_type": "markdown",
      "metadata": {
        "id": "tteo0VyFVuiO"
      },
      "source": [
        "### Problem 1a: Conditional distribution of the mixture means\n",
        "Derive $p(z_n \\mid x_n, \\pi, \\{\\mu_k\\}_{k=1}^K)$"
      ]
    },
    {
      "attachments": {},
      "cell_type": "markdown",
      "metadata": {
        "id": "P14Wfh4fVqSB",
        "tags": [
          "hide-cell"
        ]
      },
      "source": [
        "---\n",
        "\n",
        "**Solution:** \n",
        "\n",
        "$$\n",
        "\\begin{align*}\n",
        "p(z_n \\mid x_n, \\pi, \\{\\mu_k\\}_{k=1}^K) \n",
        "&\\propto p(z_n \\mid \\pi) p(x_n \\mid \\{\\mu_k\\}_{k=1}^K, z_n) \\\\\n",
        "&\\propto \\pi_{z_n} \\mathcal{N}(x_n \\mid \\mu_{z_n}, I)\n",
        "\\end{align*}\n",
        "$$\n",
        "\n",
        "Normalizing,\n",
        "\n",
        "$$\n",
        "\\begin{align*}\n",
        "p(z_n = k \\mid x_n, \\pi, \\{\\mu_k\\}_{k=1}^K) \n",
        "&= \\frac{\\pi_{k} \\mathcal{N}(x_n \\mid \\mu_k, I)}{\\sum_{j=1}^K \\pi_{j} \\mathcal{N}(x_n \\mid \\mu_j, I)}\n",
        "\\triangleq \\omega_{n,k}\n",
        "\\end{align*}\n",
        "$$\n",
        "\n",
        "---"
      ]
    },
    {
      "attachments": {},
      "cell_type": "markdown",
      "metadata": {
        "id": "1k_seUIUVoOv"
      },
      "source": [
        "\n",
        "### Problem 1b: Conditional distribution of the mixture weights\n",
        "Derive $p(\\pi \\mid \\{z_n\\}_{n=1}^N, \\alpha)$\n"
      ]
    },
    {
      "attachments": {},
      "cell_type": "markdown",
      "metadata": {
        "id": "F27G4p54VwMA",
        "tags": [
          "hide-cell"
        ]
      },
      "source": [
        "---\n",
        "\n",
        "**Solution:**\n",
        "\n",
        "$$\n",
        "\\begin{align*}\n",
        "p(\\pi \\mid \\{z_n\\}_{n=1}^N) \n",
        "&\\propto p(\\pi) \\prod_{n=1}^N p(z_n \\mid \\pi) \\\\\n",
        "&\\propto \\mathrm{Dir}(\\pi \\mid \\alpha) \\prod_{n=1}^N \\prod_{k=1}^K \\pi_k^{\\mathbb{I}[z_n = k]} \\\\\n",
        "&= \\mathrm{Dir}(\\pi \\mid \\widetilde{\\alpha})\n",
        "\\end{align*}\n",
        "$$\n",
        "\n",
        "where\n",
        "\n",
        "$$\n",
        "\\begin{align*}\n",
        "\\widetilde{\\alpha}_k \n",
        "= \\alpha_k + \\sum_{n=1}^N \\mathbb{I}[z_n = k]\n",
        "\\end{align*}\n",
        "$$\n",
        "\n",
        "---"
      ]
    },
    {
      "attachments": {},
      "cell_type": "markdown",
      "metadata": {
        "id": "4yQLyN7DVhOE"
      },
      "source": [
        "### Problem 1c: Conditional distribution of the mixture means\n",
        "Derive $p(\\mu_k \\mid \\{x_n, z_n\\}_{n=1}^N, 0, \\nu^{-1} I)$\n"
      ]
    },
    {
      "attachments": {},
      "cell_type": "markdown",
      "metadata": {
        "id": "DUX9b4W8VzFf",
        "tags": [
          "hide-cell"
        ]
      },
      "source": [
        "---\n",
        "\n",
        "**Solution:** \n",
        "\n",
        "$$\n",
        "\\begin{align*}\n",
        "p(\\mu_k \\mid \\{x_n, z_n\\}_{n=1}^N) \n",
        "&\\propto p(\\mu_k) \\prod_{n=1}^N p(x_n \\mid \\mu_k)^{\\mathbb{I}[z_n = k]} \\\\\n",
        "&\\propto \\mathcal{N}(\\mu_k \\mid \\nu^{-1} \\phi, \\nu^{-1} I) \\prod_{n=1}^N \\mathcal{N}(x_n \\mid \\mu_k, I)^{\\mathbb{I}[z_n = k]} \\\\\n",
        "&\\propto \\exp \\left\\{-\\frac{\\nu + N_k}{2} \\mu_k^\\top  \\mu_k + \\mu_k^\\top \\left(\\phi + \\sum_{n=1}^N \\mathbb{I}[z_n = k] x_n \\right) \\right\\} \\\\\n",
        "&\\propto \\mathcal{N}\\left(\\mu_k \\, \\bigg| \\, \\widetilde{\\nu}_k^{-1} \\widetilde{\\phi}_k, \\, \\widetilde{\\nu}_k^{-1} I  \\right)\n",
        "\\end{align*}\n",
        "$$\n",
        "\n",
        "where\n",
        "\n",
        "$$\n",
        "\\begin{align*}\n",
        "\\widetilde{\\phi}_k &= \\phi + \\sum_{n=1}^N \\mathbb{I}[z_n = k] x_n \\\\\n",
        "\\widetilde{\\nu}_k &= \\nu + \\sum_{n=1}^N \\mathbb{I}[z_n = k]\n",
        "\\end{align*}\n",
        "$$\n",
        "\n",
        "---"
      ]
    },
    {
      "attachments": {},
      "cell_type": "markdown",
      "metadata": {
        "id": "-D8TFnu0V2Td"
      },
      "source": [
        "## Part 2: Derive the CAVI updates\n",
        "For the Gaussian mixture model we will use a mean field posterior approximation, which assumes that the parameters and latent variables are all independent:\n",
        "\n",
        "$$\n",
        "\\begin{align*}\n",
        "q(Z, \\{\\mu_k\\}_{k=1}^K, \\pi) &= \\prod_{n=1}^N \\left[q(z_n; \\widetilde{\\omega}_n) \\right] \\, \\prod_{k=1}^K \\left[q(\\mu_k; \\widetilde{\\nu}_k, \\widetilde{\\phi}_k) \\right] \\, q(\\pi; \\widetilde{\\alpha})\n",
        "\\end{align*}\n",
        "$$\n",
        "\n",
        "We will find the optimal variational approximation via coordinate ascent on the ELBO. Recall that the general form for a CAVI update is to set the mean field factor for one variable $q(\\theta_j; \\lambda_j)$ equal to,\n",
        "\n",
        "$$\n",
        "\\begin{align*}\n",
        "q(\\theta_j; \\lambda_j) \\propto \\exp \\left\\{\\mathbb{E}_{q(\\theta_{\\neg j}; \\lambda_{\\neg j})}\\left[ \\log p(\\theta_j \\mid x, \\theta_{\\neg j}) \\right] \\right\\}\n",
        "\\end{align*}\n",
        "$$\n",
        "\n",
        "or equivalently, \n",
        "\n",
        "$$\n",
        "\\begin{align*}\n",
        "\\log q(\\theta_j; \\lambda_j) &= \\mathbb{E}_{q(\\theta_{\\neg j}; \\lambda_{\\neg j})}\\left[ \\log p(\\theta_j \\mid x, \\theta_{\\neg j}) \\right] + c\n",
        "\\end{align*}\n",
        "$$\n",
        "\n",
        "For models like this one, which are built of exponential family distributions with conjugate priors, these CAVI updates will have simple closed form solutions.\n",
        "\n",
        "In Problem 1, you already derived the conditional distributions. Now you just have to compute the expected log conditional densities, where the expectation is taken with respect to the other variables."
      ]
    },
    {
      "attachments": {},
      "cell_type": "markdown",
      "metadata": {
        "id": "tKFWYyjBWp3e"
      },
      "source": [
        "### Problem 2a: Derive the CAVI update for the mixture means\n",
        "\n",
        "The mixture assignments are discrete variables $z_n \\in \\{1,\\ldots,K\\}$ so their variational posterior must be a discrete distribution; aka a categorical distribution:\n",
        "\n",
        "$$\n",
        "\\begin{align*}\n",
        "q(z_n; \\widetilde{\\omega}_n) &= \\mathrm{Cat}(z_n ; \\widetilde{\\omega}_n)\n",
        "\\end{align*}\n",
        "$$\n",
        "\n",
        "where \n",
        "\n",
        "$$\n",
        "\\begin{align*}\n",
        "\\widetilde{\\omega}_n = \\left[ \\widetilde{\\omega}_{n,1}, \\ldots, \\widetilde{\\omega}_{n,K} \\right]^\\top\n",
        "\\end{align*}\n",
        "$$\n",
        "are the variational parameters. They must be non-negative and sum to one. These are equivalent to the _responsibilities_ from Week 4. \n",
        "\n",
        "Derive an expression for $\\widetilde{\\omega}_{n,k}$ in terms of $\\mathbb{E}_{q(\\pi)}[\\log \\pi_k]$ and $\\mathbb{E}_{q(\\mu_k)}[\\log \\mathcal{N}(x_n \\mid \\mu_k, I)]$"
      ]
    },
    {
      "attachments": {},
      "cell_type": "markdown",
      "metadata": {
        "id": "rUG0SNB5aN5m",
        "tags": [
          "hide-cell"
        ]
      },
      "source": [
        "---\n",
        "\n",
        "**Solution:**\n",
        "From Problem 1a,\n",
        "\n",
        "$$\n",
        "\\begin{align*}\n",
        "\\log p(z_n \\mid x_n, \\pi, \\{\\mu_k\\}_{k=1}^K) \n",
        "&= \\log \\pi_{z_n} + \\log \\mathcal{N}(x_n \\mid \\mu_{z_n}, I) + c\n",
        "\\end{align*}\n",
        "$$\n",
        "\n",
        "We need,\n",
        "\n",
        "$$\n",
        "\\begin{align*}\n",
        "\\log q(z_n; \\widetilde{\\omega}_n) &= \\mathbb{E}_{q(\\pi)}[\\log \\pi_{z_n}] + \\mathbb{E}_{q(\\{\\mu_k\\}_{k=1}^K)}[\\log \\mathcal{N}(x_n \\mid \\mu_{z_n}, I)]+ c\n",
        "\\end{align*}\n",
        "$$\n",
        "\n",
        "We can write this equivalently as,\n",
        "\n",
        "$$\n",
        "\\begin{align*}\n",
        "\\log q(z_n; \\widetilde{\\omega}_n) &= \\sum_{k=1}^K \\mathbb{I}[z_n = k] \\left[ \\mathbb{E}_{q(\\pi)}[\\log \\pi_{k}] + \\mathbb{E}_{q(\\{\\mu_k\\}_{k=1}^K)}[\\log \\mathcal{N}(x_n \\mid \\mu_k, I)] \\right] + c \\\\\n",
        "&= \\log \\mathrm{Cat}(z_n \\mid \\widetilde{\\omega}_n) \n",
        "\\end{align*}\n",
        "$$\n",
        "\n",
        "where\n",
        "\n",
        "$$\n",
        "\\begin{align*}\n",
        "\\widetilde{\\omega}_{n,k} = \\frac{\\exp \\left\\{ \\mathbb{E}_{q(\\pi)}[\\log \\pi_{k}] + \\mathbb{E}_{q(\\{\\mu_k\\}_{k=1}^K)}[\\log \\mathcal{N}(x_n \\mid \\mu_k, I)] \\right\\}}{\\sum_{j=1}^K \\exp \\left\\{ \\mathbb{E}_{q(\\pi)}[\\log \\pi_{j}] + \\mathbb{E}_{q(\\{\\mu_k\\}_{k=1}^K)}[\\log \\mathcal{N}(x_n \\mid \\mu_j, I)] \\right\\}}\n",
        "\\end{align*}\n",
        "$$\n",
        "\n",
        "Put differently, the CAVI update is a categorical distribution with _logits_ \n",
        "\n",
        "$$\n",
        "\\begin{align*}\n",
        "\\mathbb{E}_{q(\\pi)}[\\log \\pi_{k}] + \\mathbb{E}_{q(\\{\\mu_k\\}_{k=1}^K)}[\\log \\mathcal{N}(x_n \\mid \\mu_k, I)]\n",
        "\\end{align*}\n",
        "$$\n",
        "\n",
        "---"
      ]
    },
    {
      "attachments": {},
      "cell_type": "markdown",
      "metadata": {
        "id": "4K_Ltv1UYjx_"
      },
      "source": [
        "### Problem 2b: Derive the CAVI update for the mixture weights\n",
        "\n",
        "Show that \n",
        "\n",
        "$$\n",
        "\\begin{align*}\n",
        "q(\\pi; \\widetilde{\\alpha}) = \\mathrm{Dir}(\\pi ; \\widetilde{\\alpha})\n",
        "\\end{align*}\n",
        "$$\n",
        "\n",
        "where $\\widetilde{\\alpha} \\in \\mathbb{R}_+^{K}$ is a vector of posterior concentrations. \n",
        "\n",
        "Derive the optimal update for the variational parameters $\\widetilde{\\alpha}$ in terms of $\\alpha$ and $\\widetilde{\\omega}_{n,k}$, using the fact that\n",
        "\n",
        "$$\n",
        "\\begin{align*}\n",
        "\\mathbb{E}_{q(z_n)}[\\mathbb{I}[z_n = k]] &= \\widetilde{\\omega}_{n,k}.\n",
        "\\end{align*}\n",
        "$$"
      ]
    },
    {
      "attachments": {},
      "cell_type": "markdown",
      "metadata": {
        "id": "JD0Rj1ScaO6Q",
        "tags": [
          "hide-cell"
        ]
      },
      "source": [
        "---\n",
        "\n",
        "**Solution:**\n",
        "Following the same recipe as above,\n",
        "\n",
        "$$\n",
        "\\begin{align*}\n",
        "\\log q(\\pi; \\widetilde{\\alpha}) &= \\mathbb{E}_{q(z)}[\\log p(\\pi \\mid Z, \\alpha)] \\\\\n",
        "&= \\log \\mathrm{Dir}(\\pi; \\alpha) + \\sum_{n=1}^N \\mathbb{E}_{q(z)}[\\log p(z_n \\mid \\pi)] + c \\\\\n",
        "&= \\sum_{k=1}^K \\left(\\alpha_k + \\sum_{n=1}^N \\mathbb{E}_{q(z_n)} \\mathbb{I}[z_n = k] - 1 \\right) \\log \\pi_k + c\\\\\n",
        "&= \\log \\mathrm{Dir}(\\pi; \\widetilde{\\alpha}) \n",
        "\\end{align*}\n",
        "$$\n",
        "\n",
        "where\n",
        "\n",
        "$$\n",
        "\\begin{align*}\n",
        "\\widetilde{\\alpha}_k &= \\alpha_k + \\sum_{n=1}^N \\mathbb{E}_{q(z_n)} \\mathbb{I}[z_n = k] \\\\\n",
        "&= \\alpha_k + \\sum_{n=1}^N \\widetilde{\\omega}_{n,k}.\n",
        "\\end{align*}\n",
        "$$\n",
        "\n",
        "---"
      ]
    },
    {
      "attachments": {},
      "cell_type": "markdown",
      "metadata": {
        "id": "A7LYEfl9ZXn_"
      },
      "source": [
        "### Problem 2c: Derive the CAVI updates for the mixture means\n",
        "\n",
        "Show that the optimal $q(\\mu_k; \\widetilde{\\nu}_k, \\widetilde{\\phi}_k)$ is a Gaussian distribution,\n",
        "\n",
        "$$\n",
        "\\begin{align*}\n",
        "q(\\mu_k; \\widetilde{\\nu}_k, \\widetilde{\\phi}_k) = \\mathcal{N}(\\mu_k; \\widetilde{\\nu}_k^{-1} \\widetilde{\\phi}_k, \\widetilde{\\nu}_k^{-1} I)\n",
        "\\end{align*}\n",
        "$$"
      ]
    },
    {
      "attachments": {},
      "cell_type": "markdown",
      "metadata": {
        "id": "jkigwffZaR4u",
        "tags": [
          "hide-cell"
        ]
      },
      "source": [
        "---\n",
        "\n",
        "**Solution**: \n",
        "Like above,\n",
        "\n",
        "$$\n",
        "\\begin{align*}\n",
        "\\log q(\\mu_k; \\widetilde{\\nu}_k, \\widetilde{\\phi}_k) &=\n",
        "\\mathbb{E}_{q(z)}[\\log p(\\mu_k \\mid X, Z, \\nu)] + c \\\\\n",
        "&= \\log \\mathcal{N}(\\mu_k; \\nu^{-1} \\phi, \\nu^{-1}I) + \\sum_{n=1}^N \\mathbb{E}_{q(z_n)}[\\mathbb{I}[z_n = k]] \\log \\mathcal{N}(x_n \\mid \\mu_k; I) \\\\\n",
        "&= -\\frac{\\nu}{2} \\mu_k^\\top \\mu_k  + \\phi^\\top \\mu_k + \\sum_{n=1}^N \\mathbb{E}_{q(z_n)}[\\mathbb{I}[z_n = k]] \\left(-\\frac{1}{2} \\mu_k^\\top \\mu_k + x_n^\\top \\mu_k \\right) + c\\\\\n",
        "&= -\\frac{\\widetilde{\\nu}_k}{2} \\mu_k^\\top \\mu_k + \\widetilde{\\phi}_k^\\top \\mu_k \\\\\n",
        "&= \\log \\mathcal{N} \\left(\\mu_k; \\widetilde{\\nu}_k^{-1} \\widetilde{\\phi}_k, \\widetilde{\\nu}_k^{-1} I \\right) \n",
        "\\end{align*}\n",
        "$$\n",
        "\n",
        "where\n",
        "\n",
        "$$\n",
        "\\begin{align*}\n",
        "\\widetilde{\\nu}_k &= \\nu + \\sum_{n=1}^N \\widetilde{\\omega}_{n,k} \\\\\n",
        "\\widetilde{\\phi}_k &= \\phi + \\sum_{n=1}^N \\widetilde{\\omega}_{n,k} x_n\n",
        "\\end{align*}\n",
        "$$\n",
        "\n",
        "---"
      ]
    },
    {
      "attachments": {},
      "cell_type": "markdown",
      "metadata": {
        "id": "QxmWxu1qC2J-"
      },
      "source": [
        "### Problem 2d: Derive the Gaussian cross entropy\n",
        "\n",
        "The _negative cross entropy_ between $q(x)$ and $p(x)$ is defined as,\n",
        "\n",
        "$$\n",
        "\\begin{align*}\n",
        "\\mathbb{E}_{q(x)}[\\log p(x)]\n",
        "\\end{align*}\n",
        "$$\n",
        "\n",
        "Since $q(\\mu_k)$ is Gaussian, and since $\\mathcal{N}(x_n \\mid \\mu_k, I) = \\mathcal{N}(\\mu_k \\mid x_n, I)$, we now recognize the $\\mathbb{E}_{q(\\mu_k)}[\\log \\mathcal{N}(x_n \\mid \\mu_k, I)]$ term in our $q(z)$ update as the negative cross entropy between two multivariate normal distributions.\n",
        "\n",
        "Show that the negative cross entropy between two multivariate normal distributions is,\n",
        "\n",
        "$$\n",
        "\\begin{align*}\n",
        "\\mathbb{E}_{\\mathcal{N}(x \\mid \\mu_1, \\Sigma_1)}[\\log \\mathcal{N}(x \\mid \\mu_2, \\Sigma_2)] \n",
        "&= \n",
        "\\log \\mathcal{N}(\\mu_1 \\mid \\mu_2, \\Sigma_2) -\\tfrac{1}{2} \\mathrm{Tr}(\\Sigma_1 \\Sigma_2^{-1})\n",
        "\\end{align*}\n",
        "$$"
      ]
    },
    {
      "attachments": {},
      "cell_type": "markdown",
      "metadata": {
        "id": "SkFifNeUTSm2",
        "tags": [
          "hide-cell"
        ]
      },
      "source": [
        "---\n",
        "\n",
        "**Solution:**\n",
        "\n",
        "$$\n",
        "\\begin{align*}\n",
        "\\mathbb{E}_{\\mathcal{N}(x \\mid \\mu_1, \\Sigma_1)}[\\log \\mathcal{N}(x \\mid \\mu_2, \\Sigma_2)] \n",
        "&= \\mathbb{E}_{\\mathcal{N}(x \\mid \\mu_1, \\Sigma_1)} \\left[ -\\frac{1}{2} \\log 2\\pi -\\frac{1}{2} \\log |\\Sigma_2| - \\frac{1}{2}(x - \\mu_2)^\\top \\Sigma_2^{-1} (x - \\mu_2) \\right] \\\\\n",
        "&= \\mathbb{E}_{\\mathcal{N}(x \\mid \\mu_1, \\Sigma_1)} \\left[ -\\frac{1}{2} \\log 2\\pi -\\frac{1}{2} \\log |\\Sigma_2| - \\frac{1}{2}\\langle x x^\\top, \\Sigma_2^{-1} \\rangle + x^\\top \\Sigma_2^{-1} \\mu_2 - \\frac{1}{2} \\mu_2^\\top \\Sigma_2^{-1} \\mu_2 \\right] \\\\\n",
        "&= -\\frac{1}{2} \\log 2\\pi -\\frac{1}{2} \\log |\\Sigma_2| - \\frac{1}{2}\\langle \\Sigma_1 + \\mu_1 \\mu_1^\\top, \\Sigma_2^{-1} \\rangle + \\mu_1^\\top \\Sigma_2^{-1} \\mu_2 - \\frac{1}{2} \\mu_2^\\top \\Sigma_2^{-1} \\mu_2 \\\\\n",
        "&= -\\frac{1}{2} \\log 2\\pi -\\frac{1}{2} \\log |\\Sigma_2| - \\frac{1}{2}  \\mu_1^\\top \\Sigma_2^{-1} \\mu_1 + \\mu_1^\\top \\Sigma_2^{-1} \\mu_2 - \\frac{1}{2} \\mu_2^\\top \\Sigma_2^{-1} \\mu_2 + \\langle \\Sigma_1, \\Sigma_2^{-1} \\rangle \\\\\n",
        "&= \\log \\mathcal{N}(\\mu_1 \\mid \\mu_2, \\Sigma_2) + \\langle \\Sigma_1, \\Sigma_2^{-1} \\rangle \\\\\n",
        "&= \\log \\mathcal{N}(\\mu_1 \\mid \\mu_2, \\Sigma_2) + \\mathrm{Tr}(\\Sigma_1 \\Sigma_2^{-1})\n",
        "\\end{align*}\n",
        "$$\n",
        "\n",
        "---"
      ]
    },
    {
      "attachments": {},
      "cell_type": "markdown",
      "metadata": {
        "id": "ICOLiU3la34S"
      },
      "source": [
        "## Part 3: Derive the ELBO\n"
      ]
    },
    {
      "attachments": {},
      "cell_type": "markdown",
      "metadata": {
        "id": "vcteW3JL8lHo"
      },
      "source": [
        "### Problem 3a: Break the ELBO into parts\n",
        "The ELBO is generically written as,\n",
        "\\begin{align}\n",
        "\\mathcal{L}(\\lambda) &=\n",
        "\\mathbb{E}_q [\\log p(X, Z, \\{\\mu_k\\}_{k=1}^K, \\pi) - \\log q(Z, \\{\\mu_k\\}_{k=1}^K, \\pi) ]\\end{align}\n",
        "Rewrite the ELBO in terms of the following quantities,\n",
        "- $\\mathbb{E}_{q(z_n)}[\\mathbb{I}[z_n = k]] \\, \\mathbb{E}_{q(\\mu_k)}[\\log \\mathcal{N}(x_n \\mid \\mu_k, I)]$\n",
        "- $\\mathbb{E}_{q(\\pi)} [\\mathrm{KL}(q(z_n) \\, \\| \\, \\pi)]$\n",
        "- $\\mathrm{KL}(q(\\pi) \\, \\| \\, p(\\pi))$\n",
        "- $\\mathrm{KL}(q(\\mu_k) \\, \\| \\, p(\\mu_k))$"
      ]
    },
    {
      "attachments": {},
      "cell_type": "markdown",
      "metadata": {
        "id": "fwip3yxe9GKL",
        "tags": [
          "hide-cell"
        ]
      },
      "source": [
        "---\n",
        "\n",
        "**Solution:**\n",
        "\n",
        "$$\n",
        "\\begin{align*}\n",
        "\\mathcal{L}(\\lambda) &=\n",
        "\\mathbb{E}_q [\\log p(X, Z, \\{\\mu_k\\}_{k=1}^K, \\pi) - \\log q(Z, \\{\\mu_k\\}_{k=1}^K, \\pi) ]\\\\\n",
        "&= \n",
        "\\mathbb{E}_q \\left[\\sum_{n=1}^N \\sum_{k=1}^K \\mathbb{I}[z_n=k] \\left( \\log\\mathcal{N}(x_n \\mid \\mu_k, I) + \\log \\pi_k \\right) + \\log p(\\pi) + \\sum_{k=1}^K \\log p(\\mu_k) \\right. \\\\\n",
        "&\\qquad \\left. - \\sum_{n=1}^N \\log q(z_n) - \\log q(\\pi) - \\sum_{k=1}^K \\log q(\\mu_k) \\right] \\\\\n",
        "&= \n",
        "\\sum_{n=1}^N \\sum_{k=1}^K \\mathbb{E}_{q(z_n)} \\mathbb{E}_{q(\\mu_k)} \\left[ \\mathbb{I}[z_n=k] \\log\\mathcal{N}(x_n \\mid \\mu_k, I) \\right] + \\sum_{n=1}^N \\mathbb{E}_{q(\\pi)} \\mathbb{E}_{q(z_n)}[ \\log p(z_n \\mid \\pi) - \\log q(z_n)]  + \\mathbb{E}_{q(\\pi)} [\\log p(\\pi) - \\log q(\\pi)] + \\sum_{k=1}^K \\mathbb{E}_{q(\\mu_k)} [\\log p(\\mu_k) - \\log q(\\mu_k)] \\\\\n",
        "&= \n",
        "\\sum_{n=1}^N \\sum_{k=1}^K \\mathbb{E}_{q(z_n)} [\\mathbb{I}[z_n=k]] \\mathbb{E}_{q(\\mu_k)} [\\log\\mathcal{N}(x_n \\mid \\mu_k, I)] + \\sum_{n=1}^N \\mathbb{E}_{q(\\pi)} [\\mathrm{KL}[q(z_n) \\, \\| \\, p(z_n \\mid \\pi)] + \\mathrm{KL}( q(\\pi) \\, \\| \\,  p(\\pi)) + \\sum_{k=1}^K \\mathrm{KL}(q(\\mu_k) \\, \\| \\, p(\\mu_k))\n",
        "\\end{align*}\n",
        "$$\n",
        "\n",
        "---"
      ]
    },
    {
      "attachments": {},
      "cell_type": "markdown",
      "metadata": {
        "id": "K_SB70Km8wpZ"
      },
      "source": [
        "### Problem 3b: Derive closed form expressions for each term in the ELBO\n",
        "\n",
        "Find closed form expressions for each term from Problem 3a."
      ]
    },
    {
      "attachments": {},
      "cell_type": "markdown",
      "metadata": {
        "id": "uy9dZ_nD9G5N",
        "tags": [
          "hide-cell"
        ]
      },
      "source": [
        "---\n",
        "\n",
        "**Solution:**\n",
        "\n",
        "These are a bit tedious to type up. The first one follows from problem 2d. The last two are textbook KL divergences. The second is just a KL between two discrete distributions, but you need to use the expected value of $\\log \\pi_k$ under a Dirichlet distribution.\n",
        "\n",
        "---"
      ]
    },
    {
      "attachments": {},
      "cell_type": "markdown",
      "metadata": {
        "id": "D-gCR46b-TPn"
      },
      "source": [
        "## Part 4: Implementation"
      ]
    },
    {
      "cell_type": "code",
      "execution_count": 1,
      "metadata": {
        "id": "GFN1-wvIue3K"
      },
      "outputs": [],
      "source": [
        "import torch\n",
        "from torch.distributions import Dirichlet, MultivariateNormal, Categorical\n",
        "from torch.distributions.kl import kl_divergence\n",
        "\n",
        "import matplotlib.pyplot as plt\n",
        "from matplotlib.patches import Ellipse\n",
        "import matplotlib.transforms as transforms\n",
        "\n",
        "from tqdm.auto import trange"
      ]
    },
    {
      "cell_type": "code",
      "execution_count": 2,
      "metadata": {
        "cellView": "form",
        "id": "WdCUApSU9VvL",
        "tags": [
          "hide-cell"
        ]
      },
      "outputs": [],
      "source": [
        "#@title Helper function to draw ellipse\n",
        "def confidence_ellipse(mean, cov, ax, n_std=3.0, facecolor='none', **kwargs):\n",
        "    \"\"\"\n",
        "    Modified from: https://matplotlib.org/3.5.0/gallery/\\\n",
        "        statistics/confidence_ellipse.html\n",
        "    Create a plot of the covariance confidence ellipse of *x* and *y*.\n",
        "\n",
        "    Parameters\n",
        "    ----------\n",
        "    mean: vector-like, shape (n,)\n",
        "        Mean vector.\n",
        "        \n",
        "    cov : matrix-like, shape (n, n)\n",
        "        Covariance matrix.\n",
        "\n",
        "    ax : matplotlib.axes.Axes\n",
        "        The axes object to draw the ellipse into.\n",
        "\n",
        "    n_std : float\n",
        "        The number of standard deviations to determine the ellipse's radiuses.\n",
        "\n",
        "    **kwargs\n",
        "        Forwarded to `~matplotlib.patches.Ellipse`\n",
        "\n",
        "    Returns\n",
        "    -------\n",
        "    matplotlib.patches.Ellipse\n",
        "    \"\"\"\n",
        "    # compute the 2D covariance ellipse\n",
        "    pearson = cov[0, 1] / torch.sqrt(cov[0, 0] * cov[1, 1])\n",
        "    ell_radius_x = torch.sqrt(1 + pearson)\n",
        "    ell_radius_y = torch.sqrt(1 - pearson)\n",
        "    ellipse = Ellipse((0, 0), \n",
        "                      width=ell_radius_x * 2, \n",
        "                      height=ell_radius_y * 2,\n",
        "                      facecolor=facecolor, \n",
        "                      **kwargs)\n",
        "\n",
        "    # Calculating the standard deviation\n",
        "    # the square root of the variance and multiplying\n",
        "    # with the given number of standard deviations.\n",
        "    scale = torch.sqrt(torch.diag(cov) * n_std)\n",
        "    \n",
        "    # Transform the ellipse by rotating, scaling, and translating\n",
        "    transf = transforms.Affine2D() \\\n",
        "        .rotate_deg(45) \\\n",
        "        .scale(*scale) \\\n",
        "        .translate(*mean)\n",
        "    ellipse.set_transform(transf + ax.transData)\n",
        "\n",
        "    # Add the patch to the axis\n",
        "    return ax.add_patch(ellipse)"
      ]
    },
    {
      "attachments": {},
      "cell_type": "markdown",
      "metadata": {
        "id": "7Nyg-s9Yx1JN"
      },
      "source": [
        "## Write some helper fucntions for KL divergences and cross entropies\n"
      ]
    },
    {
      "cell_type": "code",
      "execution_count": 3,
      "metadata": {
        "id": "UoqrOOfvue3N"
      },
      "outputs": [],
      "source": [
        "def dirichlet_expected_log(dirichlet):\n",
        "    \"\"\"Helper function to compute expected log under Dirichlet distribution.\n",
        "\n",
        "    Args:\n",
        "        dirichlet: A torch.distributions.Dirichlet object with a batch shape of\n",
        "            (...,) and a event shape of (K,).\n",
        "\n",
        "    Returns:\n",
        "        (...,K) tensor of expected logs, E[\\log \\pi], under the Dirichlet.\n",
        "    \"\"\"\n",
        "    concentration = dirichlet.concentration\n",
        "    return torch.special.digamma(concentration) - \\\n",
        "           torch.special.digamma(concentration.sum(dim=-1, keepdims=True))\n",
        "\n",
        "\n",
        "def dirichlet_log_normalizer(concentration):\n",
        "    \"\"\"Compute the log normalizing constant of a Dirichlet distribution with\n",
        "    the specificed concentration.\n",
        "\n",
        "    Args:\n",
        "        concentration: (...,K) tensor of concentration parameters\n",
        "\n",
        "    Returns:\n",
        "        (...,) batch of log normalizers\n",
        "    \"\"\"\n",
        "    return torch.special.gammaln(concentration).sum(dim=-1) - \\\n",
        "        torch.special.gammaln(concentration.sum(dim=-1))\n",
        "\n",
        "\n",
        "def gaussian_neg_cross_entropy(q, p):\n",
        "    \"\"\"Compute the negative cross entropy between two Gaussian distributions,\n",
        "        \n",
        "        -E_{q(x | \\mu_q, \\Sigma_q)}[\\log p(x | \\mu_p, \\Sigma_p)]\n",
        "\n",
        "    Args:\n",
        "        q: A torch.distributions.MultivariateNormal object\n",
        "        p: A torch.distributions.MultivariateNormal object\n",
        "\n",
        "    Returns:\n",
        "        A (batch of) cross entropy(ies) between q and p.\n",
        "    \"\"\"\n",
        "    mu_q = q.mean\n",
        "    Sigma_q = q.covariance_matrix\n",
        "    mu_p = p.mean\n",
        "    Sigma_p = p.covariance_matrix\n",
        "\n",
        "    # Compute the multivariate normal cross entropy\n",
        "    return p.log_prob(mu_q) - 0.5 * torch.diagonal(\n",
        "        torch.linalg.solve(Sigma_p, Sigma_q), dim1=-2, dim2=-1).sum(dim=-1)"
      ]
    },
    {
      "cell_type": "code",
      "execution_count": 4,
      "metadata": {
        "cellView": "form",
        "colab": {
          "base_uri": "https://localhost:8080/"
        },
        "id": "5h2ORgr1FOlj",
        "outputId": "d7a3db53-4547-4db1-9c2e-b6a8c9ef2e04",
        "tags": [
          "hide-cell"
        ]
      },
      "outputs": [],
      "source": [
        "# #@title Test our implementations against tensorflow probability\n",
        "# import jax.numpy as jnp\n",
        "# from tensorflow_probability.substrates import jax as tfp\n",
        "# tfd = tfp.distributions\n",
        "\n",
        "# # Code to suppress stupid TFP warnings\n",
        "# import logging\n",
        "# logger = logging.getLogger()\n",
        "# class CheckTypesFilter(logging.Filter):\n",
        "#     def filter(self, record):\n",
        "#         return \"check_types\" not in record.getMessage()\n",
        "# logger.addFilter(CheckTypesFilter())\n",
        "\n",
        "# # Test Gaussian cross entropy\n",
        "# p = MultivariateNormal(torch.zeros(2), torch.eye(2))\n",
        "# q = MultivariateNormal(torch.ones(2), 2 * torch.eye(2))\n",
        "# print(\"my ce:  \", gaussian_neg_cross_entropy(q, p).numpy())\n",
        "# p2 = tfd.MultivariateNormalFullCovariance(jnp.zeros(2), jnp.eye(2))\n",
        "# q2 = tfd.MultivariateNormalFullCovariance(jnp.ones(2), 2 * jnp.eye(2))\n",
        "# print(\"tfp ce: \", -q2.cross_entropy(p2))"
      ]
    },
    {
      "attachments": {},
      "cell_type": "markdown",
      "metadata": {
        "id": "-bCID4jque3N"
      },
      "source": [
        "### Problem 4a: Implement CAVI updates\n"
      ]
    },
    {
      "cell_type": "code",
      "execution_count": 5,
      "metadata": {
        "id": "x-TIiIlxue3O"
      },
      "outputs": [],
      "source": [
        "def cavi_step_z(data, q_pi, q_theta):\n",
        "    \"\"\"\n",
        "    Perform a CAVI update of q(z) given the data, q(\\pi), and q(\\{\\mu_k\\}_{k=1}^K)\n",
        "\n",
        "    Args:\n",
        "        data: (N, D) tensor where each row is a data point\n",
        "        q_pi: td.Dirichlet posterior distribution over the mixture weights\n",
        "        q_theta: td.MultivariateNormal posterior distribution over the set of\n",
        "            mixture means. I.e. `q_theta.mean.shape == (K, D)` and \n",
        "            `q_theta.covariance_matrix.shape == (K, D, D)` where K is the \n",
        "            number of mixture components.\n",
        "\n",
        "    Returns:\n",
        "        q_z: a Categorical distribution over a batch of N mixture assignments.\n",
        "    \"\"\"\n",
        "    E_logpi = dirichlet_expected_log(q_pi)  # (K,)\n",
        "    E_loglkhd = gaussian_neg_cross_entropy(\n",
        "        MultivariateNormal(q_theta.mean.unsqueeze(0), \n",
        "                           q_theta.covariance_matrix.unsqueeze(0)),\n",
        "        MultivariateNormal(data.unsqueeze(1), torch.eye(data.shape[-1]))) # (N, K)\n",
        "    \n",
        "    return Categorical(logits=E_logpi + E_loglkhd)\n",
        "    \n",
        "\n",
        "def cavi_step_pi(q_z, alpha):\n",
        "    \"\"\"\n",
        "    Performa CAVI update of q(\\pi) given q(z) and alpha.\n",
        "\n",
        "    Args:\n",
        "        q_z: Categorical posterior distribution over mixture assignments\n",
        "        alpha: scalar (or shape (K,) tensor of) prior concentration(s)\n",
        "\n",
        "    Returns:\n",
        "        q_pi: Dirichlet posterior distribution over mixture weights\n",
        "    \"\"\"\n",
        "    return Dirichlet(alpha + q_z.probs.sum(axis=0))\n",
        "\n",
        "\n",
        "def cavi_step_mu(data, q_z, nu, phi):\n",
        "    \"\"\"\n",
        "    Performa CAVI update of q(\\mu) given q(z) and prior hyperparameters.\n",
        "\n",
        "    Args:\n",
        "        q_z: Categorical posterior distribution over mixture assignments\n",
        "        nu:  prior precision (scalar)\n",
        "        phi: prior precision-weighted-mean (scalar or (D,))\n",
        "\n",
        "    Returns:\n",
        "        q_pi: Dirichlet posterior distribution over mixture weights\n",
        "    \"\"\"\n",
        "    dim = data.shape[-1]\n",
        "    E_z = q_z.probs\n",
        "    phi_tilde = phi + (data.unsqueeze(1) * E_z.unsqueeze(2)).sum(0)    # (K, D)\n",
        "    nu_tilde = nu + E_z.sum(0)                                         # (K,)\n",
        "\n",
        "    mu = phi_tilde / nu_tilde.unsqueeze(1)\n",
        "    Sigma =  1 / nu_tilde[:, None, None] * torch.eye(dim)\n",
        "    return MultivariateNormal(mu, Sigma)\n",
        "    "
      ]
    },
    {
      "attachments": {},
      "cell_type": "markdown",
      "metadata": {
        "id": "R6XdL-icdVDv"
      },
      "source": [
        "### Problem 4b: Implement the ELBO"
      ]
    },
    {
      "cell_type": "code",
      "execution_count": 6,
      "metadata": {
        "id": "N_R8sA6wdc6U"
      },
      "outputs": [],
      "source": [
        "def elbo(data, q_z, q_pi, q_mu, alpha, nu, phi):\n",
        "    \"\"\"Compute the evidence lower bound.\n",
        "    \"\"\"\n",
        "    E_z = q_z.probs\n",
        "    N, D = data.shape\n",
        "    K = q_pi.concentration.shape[-1]\n",
        "\n",
        "    # E_q[\\log p(x | z, \\{\\mu_k\\}_{k=1}^K)]\n",
        "    E_loglkhd = gaussian_neg_cross_entropy(\n",
        "        MultivariateNormal(q_mu.mean.unsqueeze(0), \n",
        "                           q_mu.covariance_matrix.unsqueeze(0)),\n",
        "        MultivariateNormal(data.unsqueeze(1), torch.eye(D)))\n",
        "    \n",
        "    elbo = torch.sum(E_z * E_loglkhd)\n",
        "    \n",
        "    # E_q(z)q(pi)[\\log p(z | \\pi)]\n",
        "    elbo += torch.sum(E_z * dirichlet_expected_log(q_pi))\n",
        "\n",
        "    # -E_q[\\log q(z)]\n",
        "    elbo -= torch.sum(E_z * q_z.logits)\n",
        "\n",
        "    # KL to prior\n",
        "    elbo -= kl_divergence(q_pi, Dirichlet(alpha * torch.ones(K)))\n",
        "    elbo -= torch.sum(kl_divergence(\n",
        "        q_mu, MultivariateNormal(1/nu * phi * torch.ones(D), 1/nu * torch.eye(D))))\n",
        "    return elbo"
      ]
    },
    {
      "attachments": {},
      "cell_type": "markdown",
      "metadata": {
        "id": "tF33DQvodU9h"
      },
      "source": [
        "### Put it all together"
      ]
    },
    {
      "cell_type": "code",
      "execution_count": 9,
      "metadata": {
        "id": "yFrabsbqdSgT"
      },
      "outputs": [],
      "source": [
        "def cavi(data, \n",
        "         num_components=2, \n",
        "         num_iter=100, \n",
        "         tol=1e-5, \n",
        "         alpha=20.0, \n",
        "         nu=1.0,\n",
        "         phi=0.0,\n",
        "         seed=305 + ord('c'),\n",
        "        ):\n",
        "    \"\"\"Run coordinate ascent VI for the Gaussian Mixture Model.\n",
        "    \n",
        "    \"\"\"\n",
        "    data = data.type(torch.float)\n",
        "    N, D = data.shape\n",
        "    K = num_components      # short hand\n",
        "    \n",
        "    # Initialize the clusters randomly\n",
        "    torch.manual_seed(seed)\n",
        "    clusters = Categorical(logits=torch.zeros(K)).sample((N,))\n",
        "    q_pi = Dirichlet(alpha * torch.ones(K))\n",
        "    q_mu = MultivariateNormal(\n",
        "        torch.row_stack([data[clusters == k].mean(axis=0) for k in range(K)]),\n",
        "        torch.eye(D).repeat(K, 1, 1))\n",
        "    q_z = Categorical(logits=torch.zeros((N, K)))\n",
        "    \n",
        "    # Run CAVI\n",
        "    elbos = [elbo(data, q_z, q_pi, q_mu, alpha, nu, phi)]\n",
        "    for itr in trange(num_iter):\n",
        "        # Update variational factors one at a time\n",
        "        q_z = cavi_step_z(data, q_pi, q_mu)\n",
        "        q_pi = cavi_step_pi(q_z, alpha)\n",
        "        q_mu = cavi_step_mu(data, q_z, nu, phi)\n",
        "        \n",
        "        # Compute the ELBO\n",
        "        elbos.append(elbo(data, q_z, q_pi, q_mu, alpha, nu, phi))\n",
        "        \n",
        "        # Check for convergence\n",
        "        if elbos[-1] - elbos[-2] < -1e-4:\n",
        "            raise Exception(\"ELBO is going down!\")\n",
        "        elif elbos[-1] - elbos[-2] < tol:\n",
        "            print(\"Converged!\")\n",
        "            break\n",
        "        \n",
        "    return torch.tensor(elbos), (q_z, q_pi, q_mu)\n",
        "        "
      ]
    },
    {
      "attachments": {},
      "cell_type": "markdown",
      "metadata": {
        "id": "Ga2QoF_k89w9"
      },
      "source": [
        "### Test on synthetic data"
      ]
    },
    {
      "cell_type": "code",
      "execution_count": 10,
      "metadata": {
        "colab": {
          "base_uri": "https://localhost:8080/",
          "height": 998,
          "referenced_widgets": [
            "188c15457ea8407bb2c398b041e6d60f",
            "9283f341a21f430d86a28b7a016c0f60",
            "ad43b7764f9b4ec88c1c8b87ccd01d2d",
            "fc429fb93dd2470e8174f62e4a43602a",
            "803ad5e7b2de4f9ca8e6a343d9362bdf",
            "ee005d375df64cf296190a93c3587e4d",
            "83547b28a4c245818939f7dd3a2794ea",
            "e7ba5c6122124317a8d0cf9c9f41acaf",
            "fe82b86d88f74dbba7e8448dff60031f",
            "2e41787f425e41b9a61f6c3f5b2649c0",
            "cf3867f7c93a4a6d84cbf1ad52f6d926"
          ]
        },
        "id": "vWW182t69ZlW",
        "outputId": "e470547b-8133-438e-d86c-2880f50db28a"
      },
      "outputs": [
        {
          "data": {
            "application/vnd.jupyter.widget-view+json": {
              "model_id": "10d41aac9703417d8f55f97771a1733e",
              "version_major": 2,
              "version_minor": 0
            },
            "text/plain": [
              "  0%|          | 0/100 [00:00<?, ?it/s]"
            ]
          },
          "metadata": {},
          "output_type": "display_data"
        },
        {
          "name": "stdout",
          "output_type": "stream",
          "text": [
            "Converged!\n",
            "Cluster  0 :\n",
            "\t E[mu_k]:    tensor([7.3993, 7.4017])\n",
            "\t Cov[mu_k]:  tensor([[0.0407, 0.0000],\n",
            "        [0.0000, 0.0407]])\n",
            "\t E[pi_k]:    tensor(0.3899)\n",
            "\n",
            "Cluster  1 :\n",
            "\t E[mu_k]:    tensor([4.4907, 4.1577])\n",
            "\t Cov[mu_k]:  tensor([[0.0522, 0.0000],\n",
            "        [0.0000, 0.0522]])\n",
            "\t E[pi_k]:    tensor(0.3040)\n",
            "\n",
            "Cluster  2 :\n",
            "\t E[mu_k]:    tensor([1.2618, 1.6898])\n",
            "\t Cov[mu_k]:  tensor([[0.0519, 0.0000],\n",
            "        [0.0000, 0.0519]])\n",
            "\t E[pi_k]:    tensor(0.3061)\n",
            "\n"
          ]
        },
        {
          "data": {
            "image/png": "[encoded data removed]",
            "text/plain": [
              "<Figure size 432x288 with 1 Axes>"
            ]
          },
          "metadata": {
            "needs_background": "light"
          },
          "output_type": "display_data"
        },
        {
          "data": {
            "image/png": "[encoded data removed]",
            "text/plain": [
              "<Figure size 432x432 with 1 Axes>"
            ]
          },
          "metadata": {
            "needs_background": "light"
          },
          "output_type": "display_data"
        }
      ],
      "source": [
        "# Generate synthetic data points   \n",
        "torch.manual_seed(305 + ord('c'))\n",
        "K = 3\n",
        "D = 2\n",
        "N = 60\n",
        "true_thetas = torch.Tensor([[2, 2], [5, 5], [8, 8]])\n",
        "X = MultivariateNormal(\n",
        "    true_thetas, torch.eye(D)).sample((N // K,)).reshape(-1, D)\n",
        "\n",
        "# Run the CAVI algorithm\n",
        "elbos, (q_z, q_pi, q_mu) = \\\n",
        "    cavi(X, \n",
        "         num_components=K, \n",
        "         alpha=torch.ones(K),\n",
        "         nu=1.0)\n",
        "    \n",
        "# Print the results  \n",
        "for k in range(K):\n",
        "    print(\"Cluster \", k, \":\")\n",
        "    print(\"\\t E[mu_k]:   \", q_mu.mean[k,:])\n",
        "    print(\"\\t Cov[mu_k]: \", q_mu.covariance_matrix[k,:,:])\n",
        "    print(\"\\t E[pi_k]:   \", q_pi.mean[k])\n",
        "    print(\"\")\n",
        "\n",
        "# Plot the log probabilities over EM iterations\n",
        "plt.figure()\n",
        "plt.plot(elbos[1:])\n",
        "plt.xlabel(\"CAVI iteration\")\n",
        "plt.ylabel(\"ELBO\")\n",
        "\n",
        "# create a second figure to plot the clustered data\n",
        "fig, ax = plt.subplots(figsize=(6, 6))\n",
        "\n",
        "# plot scatter \n",
        "colors = [\"red\", \"blue\", \"green\"]\n",
        "z_hat = torch.argmax(q_z.probs, 1)\n",
        "\n",
        "for k in range(K):\n",
        "    ax.plot(X[z_hat==k, 0], X[z_hat==k, 1], c=colors[k], ls='', marker='.')\n",
        "    ax.plot(q_mu.mean[k, 0], q_mu.mean[k, 1], c=colors[k], \n",
        "            mec='k', marker='o', ms=8)\n"
      ]
    },
    {
      "attachments": {},
      "cell_type": "markdown",
      "metadata": {
        "id": "9cDAAFhl7bto"
      },
      "source": [
        "## Conclusion\n",
        "\n",
        "Truth be told, I spent about an hour debugging my CAVI implementation until I found a ridiculously simple bug! The code was still returning sensible results, but the ELBO was going down. I thought for sure it was a bug in my ELBO calculation (because that's where it usually is), but this time it was in my update for $q(\\mu_k)$. In the end, I guess checking if the ELBO decreased was a useful debugging tool!"
      ]
    }
  ],
  "metadata": {
    "colab": {
      "collapsed_sections": [],
      "name": "Lecture 10 Solutions: CAVI for Gaussian Mixture Models",
      "provenance": []
    },
    "kernelspec": {
      "display_name": "Python 3",
      "language": "python",
      "name": "python3"
    },
    "language_info": {
      "codemirror_mode": {
        "name": "ipython",
        "version": 3
      },
      "file_extension": ".py",
      "mimetype": "text/x-python",
      "name": "python",
      "nbconvert_exporter": "python",
      "pygments_lexer": "ipython3",
      "version": "3.7.11"
    },
    "widgets": {
      "application/vnd.jupyter.widget-state+json": {
        "188c15457ea8407bb2c398b041e6d60f": {
          "model_module": "@jupyter-widgets/controls",
          "model_module_version": "1.5.0",
          "model_name": "HBoxModel",
          "state": {
            "_dom_classes": [],
            "_model_module": "@jupyter-widgets/controls",
            "_model_module_version": "1.5.0",
            "_model_name": "HBoxModel",
            "_view_count": null,
            "_view_module": "@jupyter-widgets/controls",
            "_view_module_version": "1.5.0",
            "_view_name": "HBoxView",
            "box_style": "",
            "children": [
              "IPY_MODEL_9283f341a21f430d86a28b7a016c0f60",
              "IPY_MODEL_ad43b7764f9b4ec88c1c8b87ccd01d2d",
              "IPY_MODEL_fc429fb93dd2470e8174f62e4a43602a"
            ],
            "layout": "IPY_MODEL_803ad5e7b2de4f9ca8e6a343d9362bdf"
          }
        },
        "2e41787f425e41b9a61f6c3f5b2649c0": {
          "model_module": "@jupyter-widgets/base",
          "model_module_version": "1.2.0",
          "model_name": "LayoutModel",
          "state": {
            "_model_module": "@jupyter-widgets/base",
            "_model_module_version": "1.2.0",
            "_model_name": "LayoutModel",
            "_view_count": null,
            "_view_module": "@jupyter-widgets/base",
            "_view_module_version": "1.2.0",
            "_view_name": "LayoutView",
            "align_content": null,
            "align_items": null,
            "align_self": null,
            "border": null,
            "bottom": null,
            "display": null,
            "flex": null,
            "flex_flow": null,
            "grid_area": null,
            "grid_auto_columns": null,
            "grid_auto_flow": null,
            "grid_auto_rows": null,
            "grid_column": null,
            "grid_gap": null,
            "grid_row": null,
            "grid_template_areas": null,
            "grid_template_columns": null,
            "grid_template_rows": null,
            "height": null,
            "justify_content": null,
            "justify_items": null,
            "left": null,
            "margin": null,
            "max_height": null,
            "max_width": null,
            "min_height": null,
            "min_width": null,
            "object_fit": null,
            "object_position": null,
            "order": null,
            "overflow": null,
            "overflow_x": null,
            "overflow_y": null,
            "padding": null,
            "right": null,
            "top": null,
            "visibility": null,
            "width": null
          }
        },
        "803ad5e7b2de4f9ca8e6a343d9362bdf": {
          "model_module": "@jupyter-widgets/base",
          "model_module_version": "1.2.0",
          "model_name": "LayoutModel",
          "state": {
            "_model_module": "@jupyter-widgets/base",
            "_model_module_version": "1.2.0",
            "_model_name": "LayoutModel",
            "_view_count": null,
            "_view_module": "@jupyter-widgets/base",
            "_view_module_version": "1.2.0",
            "_view_name": "LayoutView",
            "align_content": null,
            "align_items": null,
            "align_self": null,
            "border": null,
            "bottom": null,
            "display": null,
            "flex": null,
            "flex_flow": null,
            "grid_area": null,
            "grid_auto_columns": null,
            "grid_auto_flow": null,
            "grid_auto_rows": null,
            "grid_column": null,
            "grid_gap": null,
            "grid_row": null,
            "grid_template_areas": null,
            "grid_template_columns": null,
            "grid_template_rows": null,
            "height": null,
            "justify_content": null,
            "justify_items": null,
            "left": null,
            "margin": null,
            "max_height": null,
            "max_width": null,
            "min_height": null,
            "min_width": null,
            "object_fit": null,
            "object_position": null,
            "order": null,
            "overflow": null,
            "overflow_x": null,
            "overflow_y": null,
            "padding": null,
            "right": null,
            "top": null,
            "visibility": null,
            "width": null
          }
        },
        "83547b28a4c245818939f7dd3a2794ea": {
          "model_module": "@jupyter-widgets/controls",
          "model_module_version": "1.5.0",
          "model_name": "DescriptionStyleModel",
          "state": {
            "_model_module": "@jupyter-widgets/controls",
            "_model_module_version": "1.5.0",
            "_model_name": "DescriptionStyleModel",
            "_view_count": null,
            "_view_module": "@jupyter-widgets/base",
            "_view_module_version": "1.2.0",
            "_view_name": "StyleView",
            "description_width": ""
          }
        },
        "9283f341a21f430d86a28b7a016c0f60": {
          "model_module": "@jupyter-widgets/controls",
          "model_module_version": "1.5.0",
          "model_name": "HTMLModel",
          "state": {
            "_dom_classes": [],
            "_model_module": "@jupyter-widgets/controls",
            "_model_module_version": "1.5.0",
            "_model_name": "HTMLModel",
            "_view_count": null,
            "_view_module": "@jupyter-widgets/controls",
            "_view_module_version": "1.5.0",
            "_view_name": "HTMLView",
            "description": "",
            "description_tooltip": null,
            "layout": "IPY_MODEL_ee005d375df64cf296190a93c3587e4d",
            "placeholder": "​",
            "style": "IPY_MODEL_83547b28a4c245818939f7dd3a2794ea",
            "value": " 16%"
          }
        },
        "ad43b7764f9b4ec88c1c8b87ccd01d2d": {
          "model_module": "@jupyter-widgets/controls",
          "model_module_version": "1.5.0",
          "model_name": "FloatProgressModel",
          "state": {
            "_dom_classes": [],
            "_model_module": "@jupyter-widgets/controls",
            "_model_module_version": "1.5.0",
            "_model_name": "FloatProgressModel",
            "_view_count": null,
            "_view_module": "@jupyter-widgets/controls",
            "_view_module_version": "1.5.0",
            "_view_name": "ProgressView",
            "bar_style": "danger",
            "description": "",
            "description_tooltip": null,
            "layout": "IPY_MODEL_e7ba5c6122124317a8d0cf9c9f41acaf",
            "max": 100,
            "min": 0,
            "orientation": "horizontal",
            "style": "IPY_MODEL_fe82b86d88f74dbba7e8448dff60031f",
            "value": 16
          }
        },
        "cf3867f7c93a4a6d84cbf1ad52f6d926": {
          "model_module": "@jupyter-widgets/controls",
          "model_module_version": "1.5.0",
          "model_name": "DescriptionStyleModel",
          "state": {
            "_model_module": "@jupyter-widgets/controls",
            "_model_module_version": "1.5.0",
            "_model_name": "DescriptionStyleModel",
            "_view_count": null,
            "_view_module": "@jupyter-widgets/base",
            "_view_module_version": "1.2.0",
            "_view_name": "StyleView",
            "description_width": ""
          }
        },
        "e7ba5c6122124317a8d0cf9c9f41acaf": {
          "model_module": "@jupyter-widgets/base",
          "model_module_version": "1.2.0",
          "model_name": "LayoutModel",
          "state": {
            "_model_module": "@jupyter-widgets/base",
            "_model_module_version": "1.2.0",
            "_model_name": "LayoutModel",
            "_view_count": null,
            "_view_module": "@jupyter-widgets/base",
            "_view_module_version": "1.2.0",
            "_view_name": "LayoutView",
            "align_content": null,
            "align_items": null,
            "align_self": null,
            "border": null,
            "bottom": null,
            "display": null,
            "flex": null,
            "flex_flow": null,
            "grid_area": null,
            "grid_auto_columns": null,
            "grid_auto_flow": null,
            "grid_auto_rows": null,
            "grid_column": null,
            "grid_gap": null,
            "grid_row": null,
            "grid_template_areas": null,
            "grid_template_columns": null,
            "grid_template_rows": null,
            "height": null,
            "justify_content": null,
            "justify_items": null,
            "left": null,
            "margin": null,
            "max_height": null,
            "max_width": null,
            "min_height": null,
            "min_width": null,
            "object_fit": null,
            "object_position": null,
            "order": null,
            "overflow": null,
            "overflow_x": null,
            "overflow_y": null,
            "padding": null,
            "right": null,
            "top": null,
            "visibility": null,
            "width": null
          }
        },
        "ee005d375df64cf296190a93c3587e4d": {
          "model_module": "@jupyter-widgets/base",
          "model_module_version": "1.2.0",
          "model_name": "LayoutModel",
          "state": {
            "_model_module": "@jupyter-widgets/base",
            "_model_module_version": "1.2.0",
            "_model_name": "LayoutModel",
            "_view_count": null,
            "_view_module": "@jupyter-widgets/base",
            "_view_module_version": "1.2.0",
            "_view_name": "LayoutView",
            "align_content": null,
            "align_items": null,
            "align_self": null,
            "border": null,
            "bottom": null,
            "display": null,
            "flex": null,
            "flex_flow": null,
            "grid_area": null,
            "grid_auto_columns": null,
            "grid_auto_flow": null,
            "grid_auto_rows": null,
            "grid_column": null,
            "grid_gap": null,
            "grid_row": null,
            "grid_template_areas": null,
            "grid_template_columns": null,
            "grid_template_rows": null,
            "height": null,
            "justify_content": null,
            "justify_items": null,
            "left": null,
            "margin": null,
            "max_height": null,
            "max_width": null,
            "min_height": null,
            "min_width": null,
            "object_fit": null,
            "object_position": null,
            "order": null,
            "overflow": null,
            "overflow_x": null,
            "overflow_y": null,
            "padding": null,
            "right": null,
            "top": null,
            "visibility": null,
            "width": null
          }
        },
        "fc429fb93dd2470e8174f62e4a43602a": {
          "model_module": "@jupyter-widgets/controls",
          "model_module_version": "1.5.0",
          "model_name": "HTMLModel",
          "state": {
            "_dom_classes": [],
            "_model_module": "@jupyter-widgets/controls",
            "_model_module_version": "1.5.0",
            "_model_name": "HTMLModel",
            "_view_count": null,
            "_view_module": "@jupyter-widgets/controls",
            "_view_module_version": "1.5.0",
            "_view_name": "HTMLView",
            "description": "",
            "description_tooltip": null,
            "layout": "IPY_MODEL_2e41787f425e41b9a61f6c3f5b2649c0",
            "placeholder": "​",
            "style": "IPY_MODEL_cf3867f7c93a4a6d84cbf1ad52f6d926",
            "value": " 16/100 [00:00&lt;00:01, 47.04it/s]"
          }
        },
        "fe82b86d88f74dbba7e8448dff60031f": {
          "model_module": "@jupyter-widgets/controls",
          "model_module_version": "1.5.0",
          "model_name": "ProgressStyleModel",
          "state": {
            "_model_module": "@jupyter-widgets/controls",
            "_model_module_version": "1.5.0",
            "_model_name": "ProgressStyleModel",
            "_view_count": null,
            "_view_module": "@jupyter-widgets/base",
            "_view_module_version": "1.2.0",
            "_view_name": "StyleView",
            "bar_color": null,
            "description_width": ""
          }
        }
      }
    }
  },
  "nbformat": 4,
  "nbformat_minor": 0
}
